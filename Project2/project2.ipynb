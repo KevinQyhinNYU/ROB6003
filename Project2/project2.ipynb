{
 "cells": [
  {
   "cell_type": "markdown",
   "metadata": {},
   "source": [
    "# Project 2: inverse kinematics and resolved rate control\n",
    "\n",
    "In this project, we will implement an inverse kinematics algorithm and controllers for the Kuka iiwa 14 robot using the results from Project 1.\n",
    "\n",
    "## Instructions\n",
    "* Answer all questions in the notebook\n",
    "* You will need to submit on Brightspace: \n",
    "    1. the code you wrote to answer the questions in a Jupyter Notebook. The code should be runnable as is.\n",
    "    2. a 2-3 pages report in pdf format (pdf only) detailing the methodology you followed to answer the questions as well as answers to the questions that require a typeset answer. You may add the plots in the report (does not count for the page limit) or in the Jupyter notebook.\n",
    "\n",
    "As a reminder, the [Kuka iiwa 14 robot](https://www.kuka.com/en-us/products/robotics-systems/industrial-robots/lbr-iiwa) has 7 revolute joints and its kinematics is described in the picture below:\n",
    "\n",
    "![](./kuka_kinematics.png \"Kuka iiwa 14 Kinematic Model\")"
   ]
  },
  {
   "cell_type": "markdown",
   "metadata": {},
   "source": [
    "# Setup\n",
    "\n",
    "Run the cell below only once when resetting the runtime in Colab - this will not do anything when running on a local Jupyter Notebook."
   ]
  },
  {
   "cell_type": "code",
   "execution_count": null,
   "metadata": {},
   "outputs": [],
   "source": [
    "## check if we are in Google Colab\n",
    "try:\n",
    "    import google.colab\n",
    "    RUNNING_IN_COLAB = True\n",
    "    print('detected Colab - setting up environment')\n",
    "    # then we need to install the conda environment\n",
    "    try:\n",
    "        import condacolab\n",
    "        condacolab.check()\n",
    "    except:\n",
    "        !pip install -q condacolab\n",
    "        import condacolab\n",
    "        condacolab.install()\n",
    "except:\n",
    "    RUNNING_IN_COLAB = False"
   ]
  },
  {
   "cell_type": "code",
   "execution_count": null,
   "metadata": {},
   "outputs": [],
   "source": [
    "# after installing condalab, the runtime restarts\n",
    "# -> need to check for colab env once more here\n",
    "try:\n",
    "    import google.colab\n",
    "    RUNNING_IN_COLAB = True\n",
    "except Exception as e:\n",
    "    RUNNING_IN_COLAB = False\n",
    "\n",
    "if RUNNING_IN_COLAB:\n",
    "    try:\n",
    "        # Check if packages are installed or not. If not, install them.\n",
    "        import pinocchio\n",
    "    except:\n",
    "        # Install pinocchio, meschat-python \n",
    "        !conda install pinocchio meshcat-python\n",
    "       \n",
    "    # get the class repo - first check if it exists\n",
    "    import os, sys\n",
    "    if not os.path.isdir('/content/ROB6003/Project2'):\n",
    "      print('cloning LAB repository')\n",
    "      os.chdir('/content')\n",
    "      !git clone https://github.com/righetti/ROB6003.git\n",
    "      print('cloning done')\n",
    "    else:\n",
    "      print('lab repos was found, skipping cloning')\n",
    "    print('done configuring for Colab')\n",
    "    sys.path.append('/content/ROB6003/Project2/')\n",
    "    os.chdir('/content/ROB6003/Project2/')\n",
    "    print('done adding system path and changing directory.')\n"
   ]
  },
  {
   "cell_type": "markdown",
   "metadata": {},
   "source": [
    "# Starting the visualization environment\n",
    "\n",
    "The following code will start a visualization environment (click on the printed address to see the robot)\n",
    "\n",
    "You need to run this only ONCE. Each time you run this cell you will get a new display environment (so you need to close the previous one!)\n",
    "\n",
    "This should work out of the box on Google Colab and you local Jupyter Notebook (make sure you have installed the right libraries in your local computer if you do not use Colab)."
   ]
  },
  {
   "cell_type": "code",
   "execution_count": null,
   "metadata": {},
   "outputs": [],
   "source": [
    "import numpy as np\n",
    "import robot_visualizer\n",
    "import time\n",
    "\n",
    "import matplotlib.pyplot as plt\n",
    "\n",
    "robot_visualizer.start_robot_visualizer()"
   ]
  },
  {
   "cell_type": "markdown",
   "metadata": {},
   "source": [
    "# Displaying an arbitrary configuration\n",
    "\n",
    "As in the previous project, you can use the following function to display arbitrary configurations of the robot"
   ]
  },
  {
   "cell_type": "code",
   "execution_count": null,
   "metadata": {},
   "outputs": [],
   "source": [
    "# here we display an arbitrary configuration of the robot\n",
    "q = np.random.sample([7])\n",
    "print(f'we show the configuration for the angles {q}')\n",
    "robot_visualizer.display_robot(q)"
   ]
  },
  {
   "cell_type": "markdown",
   "metadata": {},
   "source": [
    "## Question 1: inverse kinematics\n",
    "* Write a function ``compute_IK_position`` that gets a desired end-effector 3D position (in spatial frame) and returns a vector of joint angles that solves the inverse kinematics problem\n",
    "* The file ``desired_end_effector_positions.npy`` contains a sequence of 10 desired end-effector positions. For all the positions attainable by the robot, compute an inverse kinematics solution. For the positions for which an inverse kinematics solution does not exist, what is the issue and how close can you get the end-effector to the desired position?\n",
    "* Write a function ``compute_IK_position_nullspace`` that solves the inverse kinematics problem and additionally uses joint redundancy (i.e. the nullspace) to try and keep the joints close to the following configuration $[1,1,-1,-1,1,1,1]$. Explain how you used the nullspace to implement this function.\n",
    "* Use this new function to reach the positions set in the file ``desired_end_effector_positions.npy``, how do the solutions compare to the first ones you found?"
   ]
  },
  {
   "cell_type": "code",
   "execution_count": null,
   "metadata": {},
   "outputs": [],
   "source": [
    "## a script to load the desired end effector positions and display each of them every second\n",
    "## you maybe modify this script to test your code\n",
    "\n",
    "# load the file\n",
    "with open('desired_end_effector_positions.npy', 'rb') as f:\n",
    "    desired_endeff = np.load(f)\n",
    "    \n",
    "# first we display the robot in 0 position\n",
    "robot_visualizer.display_robot(np.zeros([7,1]))\n",
    "    \n",
    "# for each end-eff position\n",
    "for i in range(desired_endeff.shape[1]):\n",
    "    # displays the desired endeff position\n",
    "    robot_visualizer.display_ball(desired_endeff[:,i])\n",
    "    time.sleep(1.)"
   ]
  },
  {
   "cell_type": "markdown",
   "metadata": {},
   "source": [
    "## Question 2: Joint control and joint trajectories generation\n",
    "We would like the robot to go from its initial configuration to the desired end-effector positions (in spatial coordinates) $[0.7, 0.2,0.7]$ in 5 seconds and then to the configuration $[0.3, 0.5,0.9]$ during the following 5 seconds.\n",
    "\n",
    "* Compute inverse kinematics solutions to reach both goals\n",
    "* Write a function ``get_point_to_point_motion`` that returns a desired position and velocity and takes as input the total motion duration T, the desired initial position and the desired final position. The generated trajectory needs to ensure that at t=0 and t=T both the velocity and acceleration are 0. You can use this function to interpolate between desired positions in both joint and end-effector space.\n",
    "* Modify the ``robot_controller`` function below to move the robot from its initial configuration to reach the first goal (displayed in pink) at t=5 and the second goal ((in yellow) at t=10 by interpolating joint positions using the function ``get_point_to_point_motion`` you wrote above.\n",
    "* Plot the resulting joint simulated and desired positions and velocities\n",
    "* Plot the resulting end-effector positions and velocities"
   ]
  },
  {
   "cell_type": "code",
   "execution_count": null,
   "metadata": {},
   "outputs": [],
   "source": [
    "T = 10.\n",
    "end_effector_goal1 = np.array([[0.7], [0.2],[0.7]])\n",
    "end_effector_goal2 = np.array([[0.3], [0.5],[0.9]])\n",
    "\n",
    "\n",
    "## this code is to save what the controller is doing for plotting and analysis after the simulation\n",
    "global save_joint_positions, save_joint_velocities, save_t, ind\n",
    "global save_des_joint_positions, save_des_joint_velocities\n",
    "save_joint_positions = np.zeros([7,int(np.ceil(T / 0.001))+1])\n",
    "save_joint_velocities = np.zeros_like(save_joint_positions)\n",
    "save_des_joint_positions = np.zeros_like(save_joint_positions)\n",
    "save_des_joint_velocities = np.zeros_like(save_joint_positions)\n",
    "save_t = np.zeros([int(np.ceil(T / 0.001))+1])\n",
    "ind=0\n",
    "# end of saving code\n",
    "\n",
    "\n",
    "def robot_controller(t, joint_positions, joint_velocities):\n",
    "    \"\"\"A typical robot controller\n",
    "        at every time t, this controller is called by the simulator. It receives as input\n",
    "        the current joint positions and velocities and needs to return a [7,1] vector\n",
    "        of desired torque commands\n",
    "        \n",
    "        As an example, the current controller implements a PD controller and at time = 5s\n",
    "        it makes joint 2 and 3 follow sine curves\n",
    "    \"\"\"\n",
    "    \n",
    "    desired_joint_positions = np.zeros([7,1])\n",
    "    desired_joint_velocities = np.zeros([7,1])\n",
    "    \n",
    "    # when t>5. we generate sines for joint 2 and 3 as an example\n",
    "    if t > 5.:\n",
    "        desired_joint_positions[2] = 1. - np.cos(2*np.pi/5.*t)\n",
    "        desired_joint_velocities[2] = 2*np.pi/5. * np.sin(2*np.pi/5.*t)\n",
    "        \n",
    "        desired_joint_positions[3] = .5 - 0.5*np.cos(2*np.pi/5.*t)\n",
    "        desired_joint_velocities[3] = np.pi/5. * np.sin(2*np.pi/5.*t)\n",
    "    \n",
    "    # we compute the desired control commands using a PD controller\n",
    "    P = np.array([100., 100., 100., 100., 100., 100., 100.])\n",
    "    D = np.array([2.,2,2,2,2,2,2.])\n",
    "    \n",
    "    desired_joint_torques = np.diag(P) @ (desired_joint_positions - joint_positions)\n",
    "    desired_joint_torques += np.diag(D) @ (desired_joint_velocities - joint_velocities)\n",
    "    \n",
    "    \n",
    "    ## this code is to save what the controller is doing for plotting and analysis after the simulation\n",
    "    global save_joint_positions, save_joint_velocities, save_t, ind\n",
    "    global save_des_joint_positions, save_des_joint_velocities\n",
    "    save_joint_positions[:,ind] = joint_positions[:,0]\n",
    "    save_joint_velocities[:,ind] = joint_velocities[:,0]\n",
    "    save_des_joint_positions[:,ind] = desired_joint_positions[:,0]\n",
    "    save_des_joint_velocities[:,ind] = desired_joint_velocities[:,0]\n",
    "    save_t[ind] = t\n",
    "    ind += 1\n",
    "    ## end of saving code\n",
    "    \n",
    "    return desired_joint_torques\n",
    "        \n",
    "robot_visualizer.display_ball(end_effector_goal1[:,0])\n",
    "robot_visualizer.display_ball2(end_effector_goal2[:,0])\n",
    "robot_visualizer.simulate_robot(robot_controller, T=T)"
   ]
  },
  {
   "cell_type": "code",
   "execution_count": null,
   "metadata": {},
   "outputs": [],
   "source": [
    "# we plot the simulated vs. actual position of the robot\n",
    "plt.figure(figsize=[9,12])\n",
    "for i in range(7):\n",
    "    plt.subplot(7,1,i+1)\n",
    "    plt.plot(save_t, save_joint_positions[i,:])\n",
    "    plt.plot(save_t, save_des_joint_positions[i,:])\n",
    "    plt.ylim([-np.pi,np.pi])\n",
    "    plt.ylabel(f'q {i}')\n",
    "plt.xlabel('Desired vs. actual joint positions - Time [s]')"
   ]
  },
  {
   "cell_type": "code",
   "execution_count": null,
   "metadata": {},
   "outputs": [],
   "source": [
    "# we plot the simulated vs. actual position of the robot\n",
    "plt.figure(figsize=[9,12])\n",
    "for i in range(7):\n",
    "    plt.subplot(7,1,i+1)\n",
    "    plt.plot(save_t, save_joint_velocities[i,:])\n",
    "    plt.plot(save_t, save_des_joint_velocities[i,:])\n",
    "    plt.ylim([-3,3])\n",
    "    plt.ylabel(f'dq {i}')\n",
    "plt.xlabel('Desired vs. actual joint velocities - Time [s]')"
   ]
  },
  {
   "cell_type": "markdown",
   "metadata": {},
   "source": [
    "## Question 3: End-effector control\n",
    "As in Question 2, we would like the robot to go from its initial configuration to the desired end-effector positions (in spatial coordinates) $[0.7, 0.2,0.7]$ in 5 seconds and then to the configuration $[0.3, 0.5,0.9]$ during the following 5 seconds.\n",
    "\n",
    "* Modify the ``robot_controller2`` function below to move the robot from its initial configuration to the first goal (reaching at t=5) and the second goal (t=10) by interpolating the desired end effector positions and directly mapping end-effector error to desired joint velocities (i.e. use P gains equal to 0 in joint space and do resolved-rate control).\n",
    "* Plot the resulting joint simulated and desired positions and velocities\n",
    "* Plot the resulting end-effector positions and velocities\n",
    "* Compare results with Question 2\n",
    "* Add a nullspace term to optimize a desired configuration of your choice and discuss the results"
   ]
  },
  {
   "cell_type": "code",
   "execution_count": null,
   "metadata": {},
   "outputs": [],
   "source": [
    "T = 10.\n",
    "\n",
    "## this code is to save what the controller is doing for plotting and analysis after the simulation\n",
    "global save_joint_positions, save_joint_velocities, save_t, ind\n",
    "global save_des_joint_positions, save_des_joint_velocities\n",
    "save_joint_positions = np.zeros([7,int(np.ceil(T / 0.001))+1])\n",
    "save_joint_velocities = np.zeros_like(save_joint_positions)\n",
    "save_des_joint_positions = np.zeros_like(save_joint_positions)\n",
    "save_des_joint_velocities = np.zeros_like(save_joint_positions)\n",
    "save_t = np.zeros([int(np.ceil(T / 0.001))+1])\n",
    "ind=0\n",
    "# end of saving code\n",
    "\n",
    "\n",
    "def robot_controller2(t, joint_positions, joint_velocities):\n",
    "    \"\"\"A typical robot controller\n",
    "        at every time t, this controller is called by the simulator. It receives as input\n",
    "        the current joint positions and velocities and needs to return a [7,1] vector\n",
    "        of desired torque commands\n",
    "        \n",
    "        As an example, the current controller implements a PD controller and at time = 5s\n",
    "        it makes joint 2 and 3 follow sine curves\n",
    "    \"\"\"\n",
    "    \n",
    "    desired_joint_positions = np.zeros([7,1])\n",
    "    desired_joint_velocities = np.zeros([7,1])\n",
    "    \n",
    "    # here we will only use a D controller (i.e. on the desired joint velocities)\n",
    "    # we increased the D gain for that purpose compared to the previous controller\n",
    "    D = np.array([4.,4,4,4,4,4,4.])\n",
    "    \n",
    "    ##TODO - find the desired joint velocities\n",
    "    \n",
    "    desired_joint_torques = np.diag(D) @ (desired_joint_velocities - joint_velocities)\n",
    "    \n",
    "    \n",
    "    ## this code is to save what the controller is doing for plotting and analysis after the simulation\n",
    "    global save_joint_positions, save_joint_velocities, save_t, ind\n",
    "    global save_des_joint_positions, save_des_joint_velocities\n",
    "    save_joint_positions[:,ind] = joint_positions[:,0]\n",
    "    save_joint_velocities[:,ind] = joint_velocities[:,0]\n",
    "    save_des_joint_positions[:,ind] = desired_joint_positions[:,0]\n",
    "    save_des_joint_velocities[:,ind] = desired_joint_velocities[:,0]\n",
    "    save_t[ind] = t\n",
    "    ind += 1\n",
    "    ## end of saving code\n",
    "    \n",
    "    return desired_joint_torques\n",
    "        \n",
    "robot_visualizer.display_ball([0.7, 0.2,0.7])\n",
    "robot_visualizer.simulate_robot(robot_controller2, T=T)"
   ]
  },
  {
   "cell_type": "code",
   "execution_count": null,
   "metadata": {},
   "outputs": [],
   "source": []
  }
 ],
 "metadata": {
  "kernelspec": {
   "display_name": "Python 3",
   "language": "python",
   "name": "python3"
  },
  "language_info": {
   "codemirror_mode": {
    "name": "ipython",
    "version": 3
   },
   "file_extension": ".py",
   "mimetype": "text/x-python",
   "name": "python",
   "nbconvert_exporter": "python",
   "pygments_lexer": "ipython3",
   "version": "3.9.7"
  }
 },
 "nbformat": 4,
 "nbformat_minor": 4
}
